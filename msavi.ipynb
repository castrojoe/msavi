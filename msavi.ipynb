{
 "cells": [
  {
   "cell_type": "code",
   "execution_count": 29,
   "id": "f923835f",
   "metadata": {},
   "outputs": [],
   "source": [
    "import rasterio"
   ]
  },
  {
   "cell_type": "code",
   "execution_count": 32,
   "id": "51d45555",
   "metadata": {},
   "outputs": [],
   "source": [
    "import os"
   ]
  },
  {
   "cell_type": "code",
   "execution_count": 34,
   "id": "c9a8ed22",
   "metadata": {},
   "outputs": [],
   "source": [
    "os.chdir(\"D:/New folder (2)/LC08_L2SP_148039_20210109_20210307_02_T1\")"
   ]
  },
  {
   "cell_type": "code",
   "execution_count": 38,
   "id": "63980809",
   "metadata": {},
   "outputs": [],
   "source": [
    "b4=rasterio.open(\"LC08_L2SP_148039_20210109_20210307_02_T1_SR_B4.TIF\")"
   ]
  },
  {
   "cell_type": "code",
   "execution_count": 39,
   "id": "c2097b36",
   "metadata": {},
   "outputs": [],
   "source": [
    "b3=rasterio.open(\"LC08_L2SP_148039_20210109_20210307_02_T1_SR_B3.TIF\")"
   ]
  },
  {
   "cell_type": "code",
   "execution_count": 40,
   "id": "06f3fabb",
   "metadata": {},
   "outputs": [],
   "source": [
    "b2=rasterio.open(\"LC08_L2SP_148039_20210109_20210307_02_T1_SR_B2.TIF\")"
   ]
  },
  {
   "cell_type": "code",
   "execution_count": 41,
   "id": "47090e00",
   "metadata": {},
   "outputs": [],
   "source": [
    "with rasterio.open('RGB.tiff','w',driver='Gtiff', width=b4.width, height=b4.height, \n",
    "              count=3,crs=b4.crs,transform=b4.transform, dtype=b4.dtypes[0]) as rgb:\n",
    "    rgb.write(b2.read(1),1) \n",
    "    rgb.write(b3.read(1),2) \n",
    "    rgb.write(b4.read(1),3) \n",
    "    rgb.close()"
   ]
  },
  {
   "cell_type": "code",
   "execution_count": 48,
   "id": "f159adfa",
   "metadata": {},
   "outputs": [],
   "source": [
    "b4=rasterio.open(\"LC08_L2SP_148039_20210109_20210307_02_T1_SR_B4.TIF\")"
   ]
  },
  {
   "cell_type": "code",
   "execution_count": 49,
   "id": "5e9fdb89",
   "metadata": {},
   "outputs": [],
   "source": [
    "b5=rasterio.open(\"LC08_L2SP_148039_20210109_20210307_02_T1_SR_B5.TIF\")"
   ]
  },
  {
   "cell_type": "code",
   "execution_count": 50,
   "id": "f39d7412",
   "metadata": {},
   "outputs": [],
   "source": [
    "red=b4.read()"
   ]
  },
  {
   "cell_type": "code",
   "execution_count": 51,
   "id": "f6c69770",
   "metadata": {},
   "outputs": [],
   "source": [
    "nir=b5.read()"
   ]
  },
  {
   "cell_type": "code",
   "execution_count": 57,
   "id": "b94fbea4",
   "metadata": {},
   "outputs": [],
   "source": [
    "msavi=(\n",
    "            (2 * nir + 1)\n",
    "            - ((2 * nir + 1) ** 2 - 8 * (nir - red)) ** (1 / 2)\n",
    "        ) / 2\n"
   ]
  },
  {
   "cell_type": "code",
   "execution_count": 58,
   "id": "c3f4e06c",
   "metadata": {},
   "outputs": [],
   "source": [
    "meta=b4.meta"
   ]
  },
  {
   "cell_type": "code",
   "execution_count": 59,
   "id": "e0c49470",
   "metadata": {},
   "outputs": [],
   "source": [
    "meta.update(driver=\"GTiff\")"
   ]
  },
  {
   "cell_type": "code",
   "execution_count": 60,
   "id": "2ce28c5e",
   "metadata": {},
   "outputs": [],
   "source": [
    "meta.update(dtype=rasterio.float32)"
   ]
  },
  {
   "cell_type": "code",
   "execution_count": 61,
   "id": "85955c3c",
   "metadata": {},
   "outputs": [],
   "source": [
    "with rasterio.open('MSAVI.tif', 'w', **meta) as dst:\n",
    "    dst.write(msavi.astype(rasterio.float32))"
   ]
  },
  {
   "cell_type": "code",
   "execution_count": null,
   "id": "e92cdae6",
   "metadata": {},
   "outputs": [],
   "source": []
  }
 ],
 "metadata": {
  "kernelspec": {
   "display_name": "geo_env",
   "language": "python",
   "name": "geo_env"
  },
  "language_info": {
   "codemirror_mode": {
    "name": "ipython",
    "version": 3
   },
   "file_extension": ".py",
   "mimetype": "text/x-python",
   "name": "python",
   "nbconvert_exporter": "python",
   "pygments_lexer": "ipython3",
   "version": "3.9.2"
  }
 },
 "nbformat": 4,
 "nbformat_minor": 5
}
